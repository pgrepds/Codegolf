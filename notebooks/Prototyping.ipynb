{
 "cells": [
  {
   "cell_type": "markdown",
   "metadata": {},
   "source": [
    "Task\n",
    "\n",
    "Given a positive integer return a value indicating if it is a concatenation of two squares.\n",
    "\n",
    "This is code-golf the goal is to minimize the size of the source code as measured in bytes."
   ]
  },
  {
   "cell_type": "code",
   "execution_count": 1,
   "metadata": {},
   "outputs": [
    {
     "data": {
      "text/plain": [
       "4-element Vector{Int64}:\n",
       " 101\n",
       "  16\n",
       "   9\n",
       " 914"
      ]
     },
     "metadata": {},
     "output_type": "display_data"
    }
   ],
   "source": [
    "# Test instance\n",
    "trueInstances = [11, 90, 1001, 144100, 151296561, 164, 361, 3614, 36144]\n",
    "falseInstances = [101, 016, 9, 914]"
   ]
  },
  {
   "cell_type": "code",
   "execution_count": 2,
   "metadata": {},
   "outputs": [
    {
     "data": {
      "text/plain": [
       "false"
      ]
     },
     "metadata": {},
     "output_type": "display_data"
    }
   ],
   "source": [
    "# Implementation\n",
    "f(a,s=\"$a\",l=length(s))=0 in[startswith(last(s,l-i),r\"0.+\")+(parse(Int,last(s,l-i))^.5+parse(Int,first(s,i))^.5)%1 for i in 1:l-1]\n",
    "f(101)"
   ]
  },
  {
   "cell_type": "code",
   "execution_count": 3,
   "metadata": {},
   "outputs": [
    {
     "name": "stdout",
     "output_type": "stream",
     "text": [
      "4.0\n",
      "1 6162200235\n",
      "16 162200235\n",
      "161 62200235\n",
      "1616 2200235\n",
      "16162 200235\n",
      "161622 00235\n",
      "1616220 0235\n",
      "16162200 235\n",
      "161622002 35\n",
      "1616220023 5\n",
      "16162200235 \n"
     ]
    },
    {
     "data": {
      "text/plain": [
       "true"
      ]
     },
     "metadata": {},
     "output_type": "display_data"
    }
   ],
   "source": [
    "# Create all possible two partitions of a given string while preserving order and each string should not begin with a zero\n",
    "a=\"16162200235\"\n",
    "println(parse(Int64,first(a,2))^0.5)\n",
    "for i in 1:length(a); println(parse(Int64,first(a,i)), \" \", last(a, length(a)-i));end\n",
    "-100^0.5%1==0"
   ]
  },
  {
   "cell_type": "code",
   "execution_count": 4,
   "metadata": {},
   "outputs": [],
   "source": [
    "# Testing\n",
    "for a in trueInstances\n",
    "    if f(a) != true\n",
    "        println(\"FAIL!\", a)\n",
    "    end\n",
    "end\n",
    "\n",
    "for a in falseInstances\n",
    "    if f(a) == true\n",
    "        println(\"FAIL!\", a)\n",
    "    end\n",
    "end"
   ]
  },
  {
   "cell_type": "code",
   "execution_count": 5,
   "metadata": {},
   "outputs": [
    {
     "data": {
      "text/plain": [
       "4-element Vector{Any}:\n",
       " 20\n",
       "   [2, 2, 2]\n",
       "   [3, 3, 3]\n",
       "   [10]"
      ]
     },
     "metadata": {},
     "output_type": "display_data"
    }
   ],
   "source": [
    "[20, [2,2,2], [3,3,3], [10]]"
   ]
  },
  {
   "cell_type": "code",
   "execution_count": 6,
   "metadata": {},
   "outputs": [
    {
     "data": {
      "text/plain": [
       "1.3333333333333333"
      ]
     },
     "metadata": {},
     "output_type": "display_data"
    }
   ],
   "source": [
    "ceil((2+2+2+3+3+3+10)/3)\n",
    "20/15"
   ]
  },
  {
   "cell_type": "code",
   "execution_count": 7,
   "metadata": {},
   "outputs": [
    {
     "data": {
      "text/plain": [
       "f (generic function with 3 methods)"
      ]
     },
     "metadata": {},
     "output_type": "display_data"
    }
   ],
   "source": [
    "f(i)=i==\"dotnet ef\"&&print(\" \"^13,\"/\\\\__\\n\",\" \"^7,\"---==/    \\\\\\\\\\n ___  ___   |.    \\\\|\\\\ \\n| __|| __|  |  )\",\"\\\\\"^7,\"\\n| _| | _|   \\\\_/ |  //|\\\\\\n|___||_|       /   \\\\\\\\/\\\\\\\\\")"
   ]
  },
  {
   "cell_type": "code",
   "execution_count": 8,
   "metadata": {},
   "outputs": [
    {
     "name": "stdout",
     "output_type": "stream",
     "text": [
      "             /\\__\n",
      "       ---==/    \\\\\n",
      " ___  ___   |.    \\|\\ \n",
      "| __|| __|  |  )\\\\\\\\\\\\\\\n",
      "| _| | _|   \\_/ |  //|\\\n",
      "|___||_|       /   \\\\/\\\\"
     ]
    }
   ],
   "source": [
    "f(\"dotnet ef\")"
   ]
  },
  {
   "cell_type": "code",
   "execution_count": 9,
   "metadata": {},
   "outputs": [
    {
     "data": {
      "text/plain": [
       "f (generic function with 3 methods)"
      ]
     },
     "metadata": {},
     "output_type": "display_data"
    }
   ],
   "source": [
    "f(a,s=\"$a\",l=length(s))=0 in[occursin(r\"^0.+\",last(s,l-i))+(parse(Int,last(s,l-i))^.5+parse(Int,s[1:i])^.5)%1 for i=1:l-1]"
   ]
  },
  {
   "cell_type": "code",
   "execution_count": 10,
   "metadata": {},
   "outputs": [],
   "source": [
    "# Testing\n",
    "for a in trueInstances\n",
    "    if f(a) != true\n",
    "        println(\"FAIL!\", a)\n",
    "    end\n",
    "end\n",
    "\n",
    "for a in falseInstances\n",
    "    if f(a) == true\n",
    "        println(\"FAIL!\", a)\n",
    "    end\n",
    "end"
   ]
  },
  {
   "cell_type": "code",
   "execution_count": 237,
   "metadata": {},
   "outputs": [
    {
     "name": "stdout",
     "output_type": "stream",
     "text": [
      "hallo      *         *\n",
      "     ***       ***\n",
      "    *****     *****\n",
      "   *******   *******\n",
      "  ********* *********\n"
     ]
    },
    {
     "data": {
      "text/plain": [
       "f (generic function with 1 method)"
      ]
     },
     "metadata": {},
     "output_type": "display_data"
    }
   ],
   "source": [
    "f(n)=\"hallo\"|>foreach((i,j)->print(\" \"^j,\"*\"^i,\" \"^(i!=2n-1 ? 2j-3 : 1),\"*\"^i, \"\\n\"),1:2:2n,n+1:-1:1)"
   ]
  },
  {
   "cell_type": "code",
   "execution_count": 236,
   "metadata": {},
   "outputs": [
    {
     "ename": "MethodError",
     "evalue": "MethodError: objects of type Nothing are not callable",
     "output_type": "error",
     "traceback": [
      "MethodError: objects of type Nothing are not callable\n",
      "\n",
      "Stacktrace:\n",
      "  [1] |>(x::Nothing, f::Nothing)\n",
      "    @ Base ./operators.jl:966\n",
      "  [2] f(n::Int64)\n",
      "    @ Main ~/Documents/Lager/Codegolf/notebooks/Prototyping.ipynb:1\n",
      "  [3] top-level scope\n",
      "    @ ~/Documents/Lager/Codegolf/notebooks/Prototyping.ipynb:1\n",
      "  [4] eval\n",
      "    @ ./boot.jl:373 [inlined]\n",
      "  [5] include_string(mapexpr::typeof(REPL.softscope), mod::Module, code::String, filename::String)\n",
      "    @ Base ./loading.jl:1196\n",
      "  [6] #invokelatest#2\n",
      "    @ ./essentials.jl:716 [inlined]\n",
      "  [7] invokelatest\n",
      "    @ ./essentials.jl:714 [inlined]\n",
      "  [8] (::VSCodeServer.var\"#150#151\"{VSCodeServer.NotebookRunCellArguments, String})()\n",
      "    @ VSCodeServer ~/.vscode/extensions/julialang.language-julia-1.5.11/scripts/packages/VSCodeServer/src/serve_notebook.jl:18\n",
      "  [9] withpath(f::VSCodeServer.var\"#150#151\"{VSCodeServer.NotebookRunCellArguments, String}, path::String)\n",
      "    @ VSCodeServer ~/.vscode/extensions/julialang.language-julia-1.5.11/scripts/packages/VSCodeServer/src/repl.jl:185\n",
      " [10] notebook_runcell_request(conn::VSCodeServer.JSONRPC.JSONRPCEndpoint{Base.PipeEndpoint, Base.PipeEndpoint}, params::VSCodeServer.NotebookRunCellArguments)\n",
      "    @ VSCodeServer ~/.vscode/extensions/julialang.language-julia-1.5.11/scripts/packages/VSCodeServer/src/serve_notebook.jl:14\n",
      " [11] dispatch_msg(x::VSCodeServer.JSONRPC.JSONRPCEndpoint{Base.PipeEndpoint, Base.PipeEndpoint}, dispatcher::VSCodeServer.JSONRPC.MsgDispatcher, msg::Dict{String, Any})\n",
      "    @ VSCodeServer.JSONRPC ~/.vscode/extensions/julialang.language-julia-1.5.11/scripts/packages/JSONRPC/src/typed.jl:67\n",
      " [12] serve_notebook(pipename::String; crashreporting_pipename::String)\n",
      "    @ VSCodeServer ~/.vscode/extensions/julialang.language-julia-1.5.11/scripts/packages/VSCodeServer/src/serve_notebook.jl:94\n",
      " [13] top-level scope\n",
      "    @ ~/.vscode/extensions/julialang.language-julia-1.5.11/scripts/notebook/notebook.jl:12\n",
      " [14] include(mod::Module, _path::String)\n",
      "    @ Base ./Base.jl:418\n",
      " [15] exec_options(opts::Base.JLOptions)\n",
      "    @ Base ./client.jl:292\n",
      " [16] _start()\n",
      "    @ Base ./client.jl:495"
     ]
    }
   ],
   "source": [
    "f(5)"
   ]
  },
  {
   "cell_type": "code",
   "execution_count": 311,
   "metadata": {},
   "outputs": [
    {
     "data": {
      "text/plain": [
       "f (generic function with 3 methods)"
      ]
     },
     "metadata": {},
     "output_type": "display_data"
    }
   ],
   "source": [
    "f(n)=[\" \"^j*\"*\"^i for i in 1:2:2n,j in n+1:-1:1]"
   ]
  },
  {
   "cell_type": "code",
   "execution_count": 312,
   "metadata": {},
   "outputs": [
    {
     "data": {
      "text/plain": [
       "4×5 Matrix{String}:\n",
       " \"     *\"        \"    *\"        \"   *\"        \"  *\"        \" *\"\n",
       " \"     ***\"      \"    ***\"      \"   ***\"      \"  ***\"      \" ***\"\n",
       " \"     *****\"    \"    *****\"    \"   *****\"    \"  *****\"    \" *****\"\n",
       " \"     *******\"  \"    *******\"  \"   *******\"  \"  *******\"  \" *******\""
      ]
     },
     "metadata": {},
     "output_type": "display_data"
    }
   ],
   "source": [
    "f(4)"
   ]
  },
  {
   "cell_type": "code",
   "execution_count": 214,
   "metadata": {},
   "outputs": [
    {
     "data": {
      "text/plain": [
       "~ (generic function with 1 method)"
      ]
     },
     "metadata": {},
     "output_type": "display_data"
    }
   ],
   "source": [
    "~n=foreach((j,k)->print(\"$(j%n==0 ? \"\" : [\" \"^(k)*\"*\"^(i)*\" \"^k for i=1:2:2n][j%n]^(j<n ? 1 : 2)*\"\\n\")\"),1:1:2n,2n:-1:1)"
   ]
  },
  {
   "cell_type": "code",
   "execution_count": 216,
   "metadata": {},
   "outputs": [
    {
     "name": "stdout",
     "output_type": "stream",
     "text": [
      "          *          \n",
      "         **         \n",
      "        ***        \n",
      "       ****       \n",
      "     *          *     \n",
      "    **        **    \n",
      "   ***      ***   \n",
      "  ****    ****  \n"
     ]
    }
   ],
   "source": [
    "~(5)"
   ]
  },
  {
   "cell_type": "code",
   "execution_count": 248,
   "metadata": {},
   "outputs": [
    {
     "name": "stdout",
     "output_type": "stream",
     "text": [
      "a\n",
      "b\n",
      "c\n"
     ]
    }
   ],
   "source": [
    "my_array = [\"a\", \"b\", \"c\"]\n",
    "foreach(j->println(my_array[j]), 1:1:length(my_array))\n"
   ]
  },
  {
   "cell_type": "code",
   "execution_count": 461,
   "metadata": {},
   "outputs": [
    {
     "data": {
      "text/plain": [
       "f (generic function with 3 methods)"
      ]
     },
     "metadata": {},
     "output_type": "display_data"
    }
   ],
   "source": [
    "f(n,i)=n==1 ? i : n%2==0 ? f(n/2,i+=1) : f(n*3+1,i+=1)"
   ]
  },
  {
   "cell_type": "code",
   "execution_count": 485,
   "metadata": {},
   "outputs": [
    {
     "data": {
      "text/plain": [
       "f (generic function with 3 methods)"
      ]
     },
     "metadata": {},
     "output_type": "display_data"
    }
   ],
   "source": [
    "~x=√parse(Int,x)\n",
    "f(a,s=\"$a\",l=length(s))=0 in[(s[l-i]<'1')+(~last(s,l-i)+~s[1:i])%1 for i=1:l-1]"
   ]
  },
  {
   "cell_type": "code",
   "execution_count": 486,
   "metadata": {},
   "outputs": [
    {
     "name": "stdout",
     "output_type": "stream",
     "text": [
      "Bool[1, 1, 1, 1, 1, 1, 1, 1, 1, 0, 0, 0, 0]\n"
     ]
    }
   ],
   "source": [
    "println(map(x->f(x),[11, 90, 1001, 144100, 151296561, 164, 361, 3614, 36144, 101, 016, 9, 914]))"
   ]
  },
  {
   "cell_type": "code",
   "execution_count": 487,
   "metadata": {},
   "outputs": [
    {
     "data": {
      "text/plain": [
       "f (generic function with 3 methods)"
      ]
     },
     "metadata": {},
     "output_type": "display_data"
    }
   ],
   "source": [
    "f(i)=i==\"dotnet ef\"&&print(\" \"^13,\"/\\\\__\n",
    "\",\" \"^7,raw\"---==/    \\\\\n",
    " ___  ___   |.    \\|\\ \n",
    "| __|| __|  |  )   \\\\\\\n",
    "| _| | _|   \\_/ |  //|\\\n",
    "|___||_|       /   \\\\/\\\\\n",
    "\")"
   ]
  },
  {
   "cell_type": "code",
   "execution_count": 488,
   "metadata": {},
   "outputs": [
    {
     "name": "stdout",
     "output_type": "stream",
     "text": [
      "             /\\__\n",
      "       ---==/    \\\\\n",
      " ___  ___   |.    \\|\\ \n",
      "| __|| __|  |  )   \\\\\\\n",
      "| _| | _|   \\_/ |  //|\\\n",
      "|___||_|       /   \\\\/\\\\\n"
     ]
    }
   ],
   "source": [
    "f(\"dotnet ef\")"
   ]
  },
  {
   "cell_type": "code",
   "execution_count": 23,
   "metadata": {},
   "outputs": [
    {
     "data": {
      "text/plain": [
       "f (generic function with 1 method)"
      ]
     },
     "metadata": {},
     "output_type": "display_data"
    }
   ],
   "source": [
    "f(n)=1 in[i^2+j^2==n&&true for i=0:√n,j=0:√n]"
   ]
  },
  {
   "cell_type": "code",
   "execution_count": 15,
   "metadata": {},
   "outputs": [
    {
     "data": {
      "text/plain": [
       "66-element Vector{Int64}:\n",
       "   0\n",
       "   1\n",
       "   2\n",
       "   4\n",
       "   5\n",
       "   8\n",
       "   9\n",
       "  10\n",
       "  13\n",
       "  16\n",
       "   ⋮\n",
       " 137\n",
       " 144\n",
       " 145\n",
       " 146\n",
       " 148\n",
       " 149\n",
       " 153\n",
       " 157\n",
       " 160"
      ]
     },
     "metadata": {},
     "output_type": "display_data"
    }
   ],
   "source": [
    "truthy=[0, 1, 2, 4, 5, 8, 9, 10, 13, 16, 17, 18, 20, 25, 26, 29, 32, 34, 36, 37, 40, 41, 45, 49, 50, 52, 53, 58, 61, 64, 65, 68, 72, 73, 74, 80, 81, 82, 85, 89, 90, 97, 98, 100, 101, 104, 106, 109, 113, 116, 117, 121, 122, 125, 128, 130, 136, 137, 144, 145, 146, 148, 149, 153, 157, 160]"
   ]
  },
  {
   "cell_type": "code",
   "execution_count": 24,
   "metadata": {},
   "outputs": [],
   "source": [
    "for t in truthy\n",
    "    if f(t) === false\n",
    "        print(\"failed \", t)\n",
    "    end\n",
    "end"
   ]
  },
  {
   "cell_type": "code",
   "execution_count": 27,
   "metadata": {},
   "outputs": [
    {
     "data": {
      "text/plain": [
       "121-element Vector{Int64}:\n",
       "   3\n",
       "   6\n",
       "   7\n",
       "  11\n",
       "  12\n",
       "  14\n",
       "  15\n",
       "  19\n",
       "  21\n",
       "  22\n",
       "   ⋮\n",
       " 187\n",
       " 188\n",
       " 189\n",
       " 190\n",
       " 191\n",
       " 192\n",
       " 195\n",
       " 198\n",
       " 199"
      ]
     },
     "metadata": {},
     "output_type": "display_data"
    }
   ],
   "source": [
    "falsy=[3, 6, 7, 11, 12, 14, 15, 19, 21, 22, 23, 24, 27, 28, 30, 31, 33, 35, 38, 39, 42, 43, 44, 46, 47, 48, 51, 54, 55, 56, 57, 59, 60, 62, 63, 66, 67, 69, 70, 71, 75, 76, 77, 78, 79, 83, 84, 86, 87, 88, 91, 92, 93, 94, 95, 96, 99, 102, 103, 105, 107, 108, 110, 111, 112, 114, 115, 118, 119, 120, 123, 124, 126, 127, 129, 131, 132, 133, 134, 135, 138, 139, 140, 141, 142, 143, 147, 150, 151, 152, 154, 155, 156, 158, 159, 161, 163, 165, 166, 167, 168, 171, 172, 174, 175, 176, 177, 179, 182, 183, 184, 186, 187, 188, 189, 190, 191, 192, 195, 198, 199]"
   ]
  },
  {
   "cell_type": "code",
   "execution_count": 28,
   "metadata": {},
   "outputs": [],
   "source": [
    "for t in falsy\n",
    "    if f(t) === true\n",
    "        print(\"failed \", t)\n",
    "    end\n",
    "end"
   ]
  },
  {
   "cell_type": "code",
   "execution_count": 30,
   "metadata": {},
   "outputs": [],
   "source": [
    "using Primes"
   ]
  },
  {
   "cell_type": "code",
   "execution_count": 34,
   "metadata": {},
   "outputs": [
    {
     "data": {
      "text/plain": [
       "2^4"
      ]
     },
     "metadata": {},
     "output_type": "display_data"
    }
   ],
   "source": [
    "factor(16)"
   ]
  },
  {
   "cell_type": "code",
   "execution_count": 89,
   "metadata": {},
   "outputs": [
    {
     "data": {
      "text/plain": [
       "f (generic function with 3 methods)"
      ]
     },
     "metadata": {},
     "output_type": "display_data"
    }
   ],
   "source": [
    "f(l,s=length(l),x=\"and \")=\"$(l[1]) $(3>s≥2 ? x*l[2] : x*\"others\") $(s≤1 ? \"is\" : \"are\") typing...\""
   ]
  },
  {
   "cell_type": "code",
   "execution_count": 102,
   "metadata": {},
   "outputs": [
    {
     "data": {
      "text/plain": [
       "\"David Alex typing...\""
      ]
     },
     "metadata": {},
     "output_type": "display_data"
    }
   ],
   "source": [
    "s=\"x z typing...\"\n",
    "replace(s,\"x\"=>\"David\",\"z\"=>\"Alex\") "
   ]
  },
  {
   "cell_type": "code",
   "execution_count": 153,
   "metadata": {},
   "outputs": [
    {
     "data": {
      "text/plain": [
       "f (generic function with 3 methods)"
      ]
     },
     "metadata": {},
     "output_type": "display_data"
    }
   ],
   "source": [
    "f(l,s=length(l))=replace(\"x z typing...\",\"x\"=>l[1],\"z\"=>\"$(s>1 ? \"and $(s>2 ? \"$(s-1) others\" : l[2]) are\" : \"is\")\")"
   ]
  },
  {
   "cell_type": "code",
   "execution_count": 161,
   "metadata": {},
   "outputs": [
    {
     "name": "stdout",
     "output_type": "stream",
     "text": [
      "Bubbler is typing...\n",
      "no one is typing...\n",
      "HyperNeutrino and user are typing...\n",
      "emanresu A and 2 others are typing...\n",
      "pxeger and 10 others are typing...\n",
      "10 and 10 others are typing...\n",
      "and and are are typing...\n",
      "is is typing...\n",
      "Bubbler is typing and 3 others are typing...\n"
     ]
    }
   ],
   "source": [
    "f(l,s=length(l))=replace(\"x z typing...\",\"x\"=>l[1],\"z\"=>\"$(s>1 ? \"and $(s>2 ? \"$(s-1) others\" : l[2]) are\" : \"is\")\")\n",
    "\n",
    "a=[\"Bubbler\"]\n",
    "b=[\"no one\"]\n",
    "c=[\"HyperNeutrino\", \"user\"]\n",
    "d=[\"emanresu A\", \"lyxal\", \"Jo King\"]\n",
    "e=[\"pxeger\", \"null\", \"null\", \"null\", \"null\", \"null\", \"null\", \"null\", \"null\", \"null\", \"null\"]\n",
    "g=[\"10\", \"null\", \"null\", \"null\", \"null\", \"null\", \"null\", \"null\", \"null\", \"null\", \"null\"]\n",
    "h=[\"and\", \"are\"]\n",
    "k=[\"is\"]\n",
    "l=[\"Bubbler is typing\", \"is\", \"are\", \"and\"]\n",
    "\n",
    "println(f(a))\n",
    "println(f(b))\n",
    "println(f(c))\n",
    "println(f(d))\n",
    "println(f(e))\n",
    "println(f(g))\n",
    "println(f(h))\n",
    "println(f(k))\n",
    "println(f(l))"
   ]
  },
  {
   "cell_type": "code",
   "execution_count": null,
   "metadata": {},
   "outputs": [],
   "source": [
    "f(n)=\"\""
   ]
  },
  {
   "cell_type": "code",
   "execution_count": 273,
   "metadata": {},
   "outputs": [
    {
     "ename": "ErrorException",
     "evalue": "syntax: \"|>\" is not a unary operator",
     "output_type": "error",
     "traceback": [
      "syntax: \"|>\" is not a unary operator\n",
      "\n",
      "Stacktrace:\n",
      "  [1] top-level scope\n",
      "    @ ~/Documents/Lager/Codegolf/notebooks/Prototyping.ipynb:1\n",
      "  [2] eval\n",
      "    @ ./boot.jl:373 [inlined]\n",
      "  [3] include_string(mapexpr::typeof(REPL.softscope), mod::Module, code::String, filename::String)\n",
      "    @ Base ./loading.jl:1196\n",
      "  [4] #invokelatest#2\n",
      "    @ ./essentials.jl:716 [inlined]\n",
      "  [5] invokelatest\n",
      "    @ ./essentials.jl:714 [inlined]\n",
      "  [6] (::VSCodeServer.var\"#150#151\"{VSCodeServer.NotebookRunCellArguments, String})()\n",
      "    @ VSCodeServer ~/.vscode/extensions/julialang.language-julia-1.5.11/scripts/packages/VSCodeServer/src/serve_notebook.jl:18\n",
      "  [7] withpath(f::VSCodeServer.var\"#150#151\"{VSCodeServer.NotebookRunCellArguments, String}, path::String)\n",
      "    @ VSCodeServer ~/.vscode/extensions/julialang.language-julia-1.5.11/scripts/packages/VSCodeServer/src/repl.jl:185\n",
      "  [8] notebook_runcell_request(conn::VSCodeServer.JSONRPC.JSONRPCEndpoint{Base.PipeEndpoint, Base.PipeEndpoint}, params::VSCodeServer.NotebookRunCellArguments)\n",
      "    @ VSCodeServer ~/.vscode/extensions/julialang.language-julia-1.5.11/scripts/packages/VSCodeServer/src/serve_notebook.jl:14\n",
      "  [9] dispatch_msg(x::VSCodeServer.JSONRPC.JSONRPCEndpoint{Base.PipeEndpoint, Base.PipeEndpoint}, dispatcher::VSCodeServer.JSONRPC.MsgDispatcher, msg::Dict{String, Any})\n",
      "    @ VSCodeServer.JSONRPC ~/.vscode/extensions/julialang.language-julia-1.5.11/scripts/packages/JSONRPC/src/typed.jl:67\n",
      " [10] serve_notebook(pipename::String; crashreporting_pipename::String)\n",
      "    @ VSCodeServer ~/.vscode/extensions/julialang.language-julia-1.5.11/scripts/packages/VSCodeServer/src/serve_notebook.jl:94\n",
      " [11] top-level scope\n",
      "    @ ~/.vscode/extensions/julialang.language-julia-1.5.11/scripts/notebook/notebook.jl:12\n",
      " [12] include(mod::Module, _path::String)\n",
      "    @ Base ./Base.jl:418\n",
      " [13] exec_options(opts::Base.JLOptions)\n",
      "    @ Base ./client.jl:292\n",
      " [14] _start()\n",
      "    @ Base ./client.jl:495"
     ]
    }
   ],
   "source": [
    "|>n\n",
    "\n",
    "print(\" \"^13,raw\"\n",
    "            *\n",
    "           ***  \n",
    "\")"
   ]
  },
  {
   "cell_type": "code",
   "execution_count": 377,
   "metadata": {},
   "outputs": [
    {
     "name": "stdout",
     "output_type": "stream",
     "text": [
      "*\n",
      "**\n",
      "***\n"
     ]
    },
    {
     "data": {
      "text/plain": [
       "3-element Vector{Nothing}:\n",
       " nothing\n",
       " nothing\n",
       " nothing"
      ]
     },
     "metadata": {},
     "output_type": "display_data"
    }
   ],
   "source": [
    "~n=(i->\"*\"^i).(1:n).|>println\n",
    "~(3)"
   ]
  },
  {
   "cell_type": "code",
   "execution_count": 357,
   "metadata": {},
   "outputs": [
    {
     "data": {
      "text/plain": [
       "~ (generic function with 2 methods)"
      ]
     },
     "metadata": {},
     "output_type": "display_data"
    }
   ],
   "source": [
    "~n=(i->\"*\").(1:n).|>print"
   ]
  },
  {
   "cell_type": "code",
   "execution_count": 358,
   "metadata": {},
   "outputs": [
    {
     "name": "stdout",
     "output_type": "stream",
     "text": [
      "***"
     ]
    },
    {
     "data": {
      "text/plain": [
       "3-element Vector{Nothing}:\n",
       " nothing\n",
       " nothing\n",
       " nothing"
      ]
     },
     "metadata": {},
     "output_type": "display_data"
    }
   ],
   "source": [
    "~(3)"
   ]
  },
  {
   "cell_type": "code",
   "execution_count": 362,
   "metadata": {},
   "outputs": [
    {
     "data": {
      "text/plain": [
       "2-element Vector{Function}:\n",
       " ~ (generic function with 2 methods)\n",
       " y (generic function with 1 method)"
      ]
     },
     "metadata": {},
     "output_type": "display_data"
    }
   ],
   "source": [
    "~x=x^2\n",
    "y(z)=z^3\n",
    "\n",
    "l=[~, y]"
   ]
  },
  {
   "cell_type": "code",
   "execution_count": 356,
   "metadata": {},
   "outputs": [
    {
     "data": {
      "text/plain": [
       "3-element Vector{Int64}:\n",
       " 1\n",
       " 2\n",
       " 3"
      ]
     },
     "metadata": {},
     "output_type": "display_data"
    }
   ],
   "source": [
    "~(3)"
   ]
  },
  {
   "cell_type": "code",
   "execution_count": 402,
   "metadata": {},
   "outputs": [
    {
     "data": {
      "text/plain": [
       "Int64"
      ]
     },
     "metadata": {},
     "output_type": "display_data"
    }
   ],
   "source": [
    "typeof(Int(2.0))"
   ]
  },
  {
   "cell_type": "code",
   "execution_count": 455,
   "metadata": {},
   "outputs": [
    {
     "name": "stdout",
     "output_type": "stream",
     "text": [
      "a\n",
      "a\n"
     ]
    }
   ],
   "source": [
    "print(\"a\\n\"*\"a\\n\")"
   ]
  },
  {
   "cell_type": "code",
   "execution_count": 113,
   "metadata": {},
   "outputs": [
    {
     "name": "stdout",
     "output_type": "stream",
     "text": [
      "[1:10] = UnitRange{Int64}[1:10]\n"
     ]
    },
    {
     "data": {
      "text/plain": [
       "1-element Vector{UnitRange{Int64}}:\n",
       " 1:10"
      ]
     },
     "metadata": {},
     "output_type": "display_data"
    }
   ],
   "source": [
    "@show [1:10]"
   ]
  },
  {
   "cell_type": "code",
   "execution_count": 122,
   "metadata": {},
   "outputs": [
    {
     "data": {
      "text/plain": [
       "~ (generic function with 1 method)"
      ]
     },
     "metadata": {},
     "output_type": "display_data"
    }
   ],
   "source": [
    "~n=1 in[i^2+j^2==n for i=0:n,j=0:n]"
   ]
  },
  {
   "cell_type": "code",
   "execution_count": 123,
   "metadata": {},
   "outputs": [
    {
     "data": {
      "text/plain": [
       "true"
      ]
     },
     "metadata": {},
     "output_type": "display_data"
    }
   ],
   "source": [
    "~(9997)"
   ]
  },
  {
   "cell_type": "code",
   "execution_count": 142,
   "metadata": {},
   "outputs": [
    {
     "name": "stdout",
     "output_type": "stream",
     "text": [
      "UnitRange{Int64}[1:10]"
     ]
    }
   ],
   "source": [
    "show([1:10])"
   ]
  },
  {
   "cell_type": "code",
   "execution_count": null,
   "metadata": {},
   "outputs": [],
   "source": [
    "!l="
   ]
  },
  {
   "cell_type": "code",
   "execution_count": 149,
   "metadata": {},
   "outputs": [
    {
     "data": {
      "text/plain": [
       "15-element Vector{Int64}:\n",
       " 1\n",
       " 1\n",
       " 1\n",
       " 1\n",
       " 1\n",
       " 5\n",
       " 1\n",
       " 6\n",
       " 1\n",
       " 1\n",
       " 4\n",
       " 1\n",
       " 0\n",
       " 0\n",
       " 1"
      ]
     },
     "metadata": {},
     "output_type": "display_data"
    }
   ],
   "source": [
    "test=[1,1,1,1,1,5,1,6,1,1,4,1,0,0,1]"
   ]
  },
  {
   "cell_type": "code",
   "execution_count": 150,
   "metadata": {},
   "outputs": [
    {
     "data": {
      "text/plain": [
       "~ (generic function with 1 method)"
      ]
     },
     "metadata": {},
     "output_type": "display_data"
    }
   ],
   "source": [
    "~l=∑l>0&&"
   ]
  },
  {
   "cell_type": "code",
   "execution_count": 153,
   "metadata": {},
   "outputs": [
    {
     "data": {
      "text/plain": [
       "~ (generic function with 1 method)"
      ]
     },
     "metadata": {},
     "output_type": "display_data"
    }
   ],
   "source": [
    "~l=∑l>(j=0)&&minimum(i->1+!l[1:(j+=1)-i]+!l[j+i:end],l.+1)"
   ]
  },
  {
   "cell_type": "code",
   "execution_count": 160,
   "metadata": {},
   "outputs": [
    {
     "data": {
      "text/plain": [
       "9.999999999999996e-5"
      ]
     },
     "metadata": {},
     "output_type": "display_data"
    }
   ],
   "source": [
    "Real(0.0003)-Real(0.0002)"
   ]
  },
  {
   "cell_type": "code",
   "execution_count": 159,
   "metadata": {},
   "outputs": [
    {
     "data": {
      "text/plain": [
       "0.0001"
      ]
     },
     "metadata": {},
     "output_type": "display_data"
    }
   ],
   "source": [
    "Real(0.0002)-Real(0.0001)"
   ]
  },
  {
   "cell_type": "code",
   "execution_count": 185,
   "metadata": {},
   "outputs": [
    {
     "name": "stdout",
     "output_type": "stream",
     "text": [
      "1\n",
      "3\n",
      "4\n",
      "[2, 5, 5, 5, 6, 0]"
     ]
    }
   ],
   "source": [
    "s=\"()(())\" #[1, 0, 5, 4, 3, 2]\n",
    "\n",
    "result = [2, 1, 3, 4, 5, 6]\n",
    "\n",
    "result=zeros(Int, length(s))\n",
    "for i in 1:length(s)\n",
    "    c = s[i] \n",
    "    if c == ')'\n",
    "        println(i)\n",
    "        result[i] = i\n",
    "    end\n",
    "    for j in 1:length(s)\n",
    "        if s[j] == ')' && j>i\n",
    "            result[i] = j\n",
    "            break\n",
    "        end\n",
    "    end\n",
    "end\n",
    "print(result)"
   ]
  },
  {
   "cell_type": "code",
   "execution_count": 177,
   "metadata": {},
   "outputs": [
    {
     "data": {
      "text/plain": [
       "6-element Vector{Int64}:\n",
       " 1\n",
       " 2\n",
       " 3\n",
       " 4\n",
       " 5\n",
       " 6"
      ]
     },
     "metadata": {},
     "output_type": "display_data"
    }
   ],
   "source": [
    "result=collect(1:length(s))"
   ]
  },
  {
   "cell_type": "code",
   "execution_count": 378,
   "metadata": {},
   "outputs": [
    {
     "name": "stdout",
     "output_type": "stream",
     "text": [
      "  * \n",
      " * *"
     ]
    }
   ],
   "source": [
    "l=\"\\n\"\n",
    "△(n,k)=((i,j)->(\" \"^(k-j+1)*\"*\"^i*\" \"^(k-j))^(n==k ? 2 : 1)).(1:2:2n,1:n)\n",
    "~n=print(join(△(n,2n),l),l,join(△(n,n),l))\n",
    "~(1)"
   ]
  },
  {
   "cell_type": "code",
   "execution_count": 382,
   "metadata": {},
   "outputs": [
    {
     "name": "stdout",
     "output_type": "stream",
     "text": [
      "12345678910"
     ]
    },
    {
     "data": {
      "text/plain": [
       "1×10 Matrix{Nothing}:\n",
       " nothing  nothing  nothing  nothing  …  nothing  nothing  nothing  nothing"
      ]
     },
     "metadata": {},
     "output_type": "display_data"
    }
   ],
   "source": [
    "(1:10)'.|>print"
   ]
  },
  {
   "cell_type": "code",
   "execution_count": 396,
   "metadata": {},
   "outputs": [
    {
     "name": "stdout",
     "output_type": "stream",
     "text": [
      "[1, 2, 3, 4, 5, 6, 7, 8, 9, 10]"
     ]
    }
   ],
   "source": [
    "print(collect(1:10))"
   ]
  },
  {
   "cell_type": "code",
   "execution_count": 38,
   "metadata": {},
   "outputs": [
    {
     "name": "stdout",
     "output_type": "stream",
     "text": [
      "[0.0 1.0 2.0 3.0 4.0 5.0 6.0 7.0 8.0 9.0 10.0 11.0 12.0 13.0 14.0 15.0 16.0 17.0 18.0 19.0 20.0 21.0 22.0 23.0 24.0 25.0 26.0 27.0 28.0 29.0 30.0 31.0 32.0 33.0 34.0 35.0 36.0 37.0 38.0 39.0 40.0 41.0 42.0 43.0 44.0 45.0 46.0 47.0 48.0 49.0 50.0 51.0 52.0 53.0 54.0 55.0 56.0 57.0 58.0 59.0 60.0 61.0 62.0 63.0 64.0 65.0 66.0 67.0 68.0 69.0 70.0 71.0 72.0 73.0 74.0 75.0 76.0 77.0 78.0 79.0 80.0 81.0 82.0 83.0 84.0 85.0 86.0 87.0 88.0 89.0 90.0 91.0 92.0 93.0 94.0 95.0 96.0 97.0 98.0 99.0 100.0]"
     ]
    }
   ],
   "source": [
    "s=ceil(π*π)\n",
    "print((0:s*s)')"
   ]
  },
  {
   "cell_type": "code",
   "execution_count": 30,
   "metadata": {},
   "outputs": [
    {
     "name": "stdout",
     "output_type": "stream",
     "text": [
      "0\n",
      "1\n",
      "2\n",
      "3\n",
      "4\n",
      "5\n",
      "6\n",
      "7\n",
      "8\n",
      "9\n",
      "10\n",
      "11\n",
      "12\n",
      "13\n",
      "14\n",
      "15\n",
      "16\n",
      "17\n",
      "18\n",
      "19\n",
      "20\n",
      "21\n",
      "22\n",
      "23\n",
      "24\n",
      "25\n",
      "26\n",
      "27\n",
      "28\n",
      "29\n",
      "30\n",
      "31\n",
      "32\n",
      "33\n",
      "34\n",
      "35\n",
      "36\n",
      "37\n",
      "38\n",
      "39\n",
      "40\n",
      "41\n",
      "42\n",
      "43\n",
      "44\n",
      "45\n",
      "46\n",
      "47\n",
      "48\n",
      "49\n",
      "50\n",
      "51\n",
      "52\n",
      "53\n",
      "54\n",
      "55\n",
      "56\n",
      "57\n",
      "58\n",
      "59\n",
      "60\n",
      "61\n",
      "62\n",
      "63\n",
      "64\n",
      "65\n",
      "66\n",
      "67\n",
      "68\n",
      "69\n",
      "70\n",
      "71\n",
      "72\n",
      "73\n",
      "74\n",
      "75\n",
      "76\n",
      "77\n",
      "78\n",
      "79\n",
      "80\n",
      "81\n",
      "82\n",
      "83\n",
      "84\n",
      "85\n",
      "86\n",
      "87\n",
      "88\n",
      "89\n",
      "90\n",
      "91\n",
      "92\n",
      "93\n",
      "94\n",
      "95\n",
      "96\n",
      "97\n",
      "98\n",
      "99\n",
      "100\n"
     ]
    },
    {
     "data": {
      "text/plain": [
       "101-element Vector{Nothing}:\n",
       " nothing\n",
       " nothing\n",
       " nothing\n",
       " nothing\n",
       " nothing\n",
       " nothing\n",
       " nothing\n",
       " nothing\n",
       " nothing\n",
       " nothing\n",
       " ⋮\n",
       " nothing\n",
       " nothing\n",
       " nothing\n",
       " nothing\n",
       " nothing\n",
       " nothing\n",
       " nothing\n",
       " nothing\n",
       " nothing"
      ]
     },
     "metadata": {},
     "output_type": "display_data"
    }
   ],
   "source": [
    "println.(0:0xA*0xA)"
   ]
  },
  {
   "cell_type": "code",
   "execution_count": 47,
   "metadata": {},
   "outputs": [
    {
     "data": {
      "text/plain": [
       "2-element Vector{Vector{Int64}}:\n",
       " [2]\n",
       " [3]"
      ]
     },
     "metadata": {},
     "output_type": "display_data"
    }
   ],
   "source": [
    "using Combinatorics\n",
    "test=[[1],[2,3],[2,4],1,4]\n",
    "collect(powerset([2,3], 1, 1))"
   ]
  },
  {
   "cell_type": "code",
   "execution_count": 55,
   "metadata": {},
   "outputs": [
    {
     "data": {
      "text/plain": [
       "~ (generic function with 1 method)"
      ]
     },
     "metadata": {},
     "output_type": "display_data"
    }
   ],
   "source": [
    "~f=!(0 in(3:length(f).|>i->f[i]==f[i-2]+f[i-1]))"
   ]
  },
  {
   "cell_type": "code",
   "execution_count": 56,
   "metadata": {},
   "outputs": [
    {
     "name": "stdout",
     "output_type": "stream",
     "text": [
      "Bool\n",
      "true\n",
      "true\n",
      "true\n",
      "true\n",
      "false\n",
      "false\n",
      "false\n",
      "false\n"
     ]
    }
   ],
   "source": [
    "t1=[1, 1, 2, 3, 5]\n",
    "t2=[6, 9, 15, 24]\n",
    "t3=[49, 71, 120, 191, 311, 502]\n",
    "t4=[3, 4, 7, 11]\n",
    "\n",
    "f1=[1, 2, 4]\n",
    "f2=[1, 1, 2, 3, 4]\n",
    "f3=[3, 4, 6, 8, 9]\n",
    "f4=[3, 9, 12, 15, 31]\n",
    "\n",
    "println(typeof(~t1))\n",
    "\n",
    "println(~t1)\n",
    "println(~t2)\n",
    "println(~t3)\n",
    "println(~t4)\n",
    "\n",
    "\n",
    "println(~f1)\n",
    "println(~f2)\n",
    "println(~f3)\n",
    "println(~f4)\n"
   ]
  },
  {
   "cell_type": "code",
   "execution_count": null,
   "metadata": {},
   "outputs": [],
   "source": []
  },
  {
   "cell_type": "code",
   "execution_count": null,
   "metadata": {},
   "outputs": [],
   "source": []
  },
  {
   "cell_type": "code",
   "execution_count": null,
   "metadata": {},
   "outputs": [],
   "source": []
  },
  {
   "cell_type": "code",
   "execution_count": null,
   "metadata": {},
   "outputs": [],
   "source": []
  },
  {
   "cell_type": "code",
   "execution_count": null,
   "metadata": {},
   "outputs": [],
   "source": []
  }
 ],
 "metadata": {
  "interpreter": {
   "hash": "767d51c1340bd893661ea55ea3124f6de3c7a262a8b4abca0554b478b1e2ff90"
  },
  "kernelspec": {
   "display_name": "Julia 1.7.2",
   "language": "julia",
   "name": "julia-1.7"
  },
  "language_info": {
   "file_extension": ".jl",
   "mimetype": "application/julia",
   "name": "julia",
   "version": "1.7.2"
  },
  "orig_nbformat": 4
 },
 "nbformat": 4,
 "nbformat_minor": 2
}
