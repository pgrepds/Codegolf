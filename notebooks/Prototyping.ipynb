{
 "cells": [
  {
   "cell_type": "markdown",
   "metadata": {},
   "source": [
    "Task\n",
    "\n",
    "Given a positive integer return a value indicating if it is a concatenation of two squares.\n",
    "\n",
    "This is code-golf the goal is to minimize the size of the source code as measured in bytes."
   ]
  },
  {
   "cell_type": "code",
   "execution_count": 1,
   "metadata": {},
   "outputs": [
    {
     "data": {
      "text/plain": [
       "4-element Vector{Int64}:\n",
       " 101\n",
       "  16\n",
       "   9\n",
       " 914"
      ]
     },
     "metadata": {},
     "output_type": "display_data"
    }
   ],
   "source": [
    "# Test instance\n",
    "trueInstances = [11, 90, 1001, 144100, 151296561, 164, 361, 3614, 36144]\n",
    "falseInstances = [101, 016, 9, 914]"
   ]
  },
  {
   "cell_type": "code",
   "execution_count": 2,
   "metadata": {},
   "outputs": [
    {
     "data": {
      "text/plain": [
       "false"
      ]
     },
     "metadata": {},
     "output_type": "display_data"
    }
   ],
   "source": [
    "# Implementation\n",
    "f(a,s=\"$a\",l=length(s))=0 in[startswith(last(s,l-i),r\"0.+\")+(parse(Int,last(s,l-i))^.5+parse(Int,first(s,i))^.5)%1 for i in 1:l-1]\n",
    "f(101)"
   ]
  },
  {
   "cell_type": "code",
   "execution_count": 3,
   "metadata": {},
   "outputs": [
    {
     "name": "stdout",
     "output_type": "stream",
     "text": [
      "4.0\n",
      "1 6162200235\n",
      "16 162200235\n",
      "161 62200235\n",
      "1616 2200235\n",
      "16162 200235\n",
      "161622 00235\n",
      "1616220 0235\n",
      "16162200 235\n",
      "161622002 35\n",
      "1616220023 5\n",
      "16162200235 \n"
     ]
    },
    {
     "data": {
      "text/plain": [
       "true"
      ]
     },
     "metadata": {},
     "output_type": "display_data"
    }
   ],
   "source": [
    "# Create all possible two partitions of a given string while preserving order and each string should not begin with a zero\n",
    "a=\"16162200235\"\n",
    "println(parse(Int64,first(a,2))^0.5)\n",
    "for i in 1:length(a); println(parse(Int64,first(a,i)), \" \", last(a, length(a)-i));end\n",
    "-100^0.5%1==0"
   ]
  },
  {
   "cell_type": "code",
   "execution_count": 4,
   "metadata": {},
   "outputs": [],
   "source": [
    "# Testing\n",
    "for a in trueInstances\n",
    "    if f(a) != true\n",
    "        println(\"FAIL!\", a)\n",
    "    end\n",
    "end\n",
    "\n",
    "for a in falseInstances\n",
    "    if f(a) == true\n",
    "        println(\"FAIL!\", a)\n",
    "    end\n",
    "end"
   ]
  },
  {
   "cell_type": "code",
   "execution_count": 5,
   "metadata": {},
   "outputs": [
    {
     "data": {
      "text/plain": [
       "4-element Vector{Any}:\n",
       " 20\n",
       "   [2, 2, 2]\n",
       "   [3, 3, 3]\n",
       "   [10]"
      ]
     },
     "metadata": {},
     "output_type": "display_data"
    }
   ],
   "source": [
    "[20, [2,2,2], [3,3,3], [10]]"
   ]
  },
  {
   "cell_type": "code",
   "execution_count": 6,
   "metadata": {},
   "outputs": [
    {
     "data": {
      "text/plain": [
       "1.3333333333333333"
      ]
     },
     "metadata": {},
     "output_type": "display_data"
    }
   ],
   "source": [
    "ceil((2+2+2+3+3+3+10)/3)\n",
    "20/15"
   ]
  },
  {
   "cell_type": "code",
   "execution_count": 7,
   "metadata": {},
   "outputs": [
    {
     "data": {
      "text/plain": [
       "f (generic function with 3 methods)"
      ]
     },
     "metadata": {},
     "output_type": "display_data"
    }
   ],
   "source": [
    "f(i)=i==\"dotnet ef\"&&print(\" \"^13,\"/\\\\__\\n\",\" \"^7,\"---==/    \\\\\\\\\\n ___  ___   |.    \\\\|\\\\ \\n| __|| __|  |  )\",\"\\\\\"^7,\"\\n| _| | _|   \\\\_/ |  //|\\\\\\n|___||_|       /   \\\\\\\\/\\\\\\\\\")"
   ]
  },
  {
   "cell_type": "code",
   "execution_count": 8,
   "metadata": {},
   "outputs": [
    {
     "name": "stdout",
     "output_type": "stream",
     "text": [
      "             /\\__\n",
      "       ---==/    \\\\\n",
      " ___  ___   |.    \\|\\ \n",
      "| __|| __|  |  )\\\\\\\\\\\\\\\n",
      "| _| | _|   \\_/ |  //|\\\n",
      "|___||_|       /   \\\\/\\\\"
     ]
    }
   ],
   "source": [
    "f(\"dotnet ef\")"
   ]
  },
  {
   "cell_type": "code",
   "execution_count": 9,
   "metadata": {},
   "outputs": [
    {
     "data": {
      "text/plain": [
       "f (generic function with 3 methods)"
      ]
     },
     "metadata": {},
     "output_type": "display_data"
    }
   ],
   "source": [
    "f(a,s=\"$a\",l=length(s))=0 in[occursin(r\"^0.+\",last(s,l-i))+(parse(Int,last(s,l-i))^.5+parse(Int,s[1:i])^.5)%1 for i=1:l-1]"
   ]
  },
  {
   "cell_type": "code",
   "execution_count": 10,
   "metadata": {},
   "outputs": [],
   "source": [
    "# Testing\n",
    "for a in trueInstances\n",
    "    if f(a) != true\n",
    "        println(\"FAIL!\", a)\n",
    "    end\n",
    "end\n",
    "\n",
    "for a in falseInstances\n",
    "    if f(a) == true\n",
    "        println(\"FAIL!\", a)\n",
    "    end\n",
    "end"
   ]
  },
  {
   "cell_type": "code",
   "execution_count": 255,
   "metadata": {},
   "outputs": [
    {
     "data": {
      "text/plain": [
       "f (generic function with 3 methods)"
      ]
     },
     "metadata": {},
     "output_type": "display_data"
    }
   ],
   "source": [
    "f(n)=foreach((i,j)->print(\" \"^j,\"*\"^i,\" \"^(i!=2n-1 ? 2j-3 : 1),\"*\"^i, \"\\n\"),1:2:2n,n+1:-1:1)"
   ]
  },
  {
   "cell_type": "code",
   "execution_count": 257,
   "metadata": {},
   "outputs": [
    {
     "name": "stdout",
     "output_type": "stream",
     "text": [
      "           *                   *\n",
      "          ***                 ***\n",
      "         *****               *****\n",
      "        *******             *******\n",
      "       *********           *********\n",
      "      ***********         ***********\n",
      "     *************       *************\n",
      "    ***************     ***************\n",
      "   *****************   *****************\n",
      "  ******************* *******************\n"
     ]
    }
   ],
   "source": [
    "f(10)"
   ]
  },
  {
   "cell_type": "code",
   "execution_count": 311,
   "metadata": {},
   "outputs": [
    {
     "data": {
      "text/plain": [
       "f (generic function with 3 methods)"
      ]
     },
     "metadata": {},
     "output_type": "display_data"
    }
   ],
   "source": [
    "f(n)=[\" \"^j*\"*\"^i for i in 1:2:2n,j in n+1:-1:1]"
   ]
  },
  {
   "cell_type": "code",
   "execution_count": 312,
   "metadata": {},
   "outputs": [
    {
     "data": {
      "text/plain": [
       "4×5 Matrix{String}:\n",
       " \"     *\"        \"    *\"        \"   *\"        \"  *\"        \" *\"\n",
       " \"     ***\"      \"    ***\"      \"   ***\"      \"  ***\"      \" ***\"\n",
       " \"     *****\"    \"    *****\"    \"   *****\"    \"  *****\"    \" *****\"\n",
       " \"     *******\"  \"    *******\"  \"   *******\"  \"  *******\"  \" *******\""
      ]
     },
     "metadata": {},
     "output_type": "display_data"
    }
   ],
   "source": [
    "f(4)"
   ]
  },
  {
   "cell_type": "code",
   "execution_count": 437,
   "metadata": {},
   "outputs": [
    {
     "data": {
      "text/plain": [
       "f (generic function with 3 methods)"
      ]
     },
     "metadata": {},
     "output_type": "display_data"
    }
   ],
   "source": [
    "f(n)=foreach((j,k)->print(\"$(j%n>0 ? [\" \"^(j>=n ? k : k-1)*\"*\"^i*\" \"^k for i in 1:2:2n][j%n]^(j>=n ? 2 : 1)*\"\\n\" : \"\")\"),1:1:2n,2n+2:-1:1)"
   ]
  },
  {
   "cell_type": "code",
   "execution_count": 438,
   "metadata": {},
   "outputs": [
    {
     "name": "stdout",
     "output_type": "stream",
     "text": [
      "                               *                                \n",
      "                              ***                               \n",
      "                             *****                              \n",
      "                            *******                             \n",
      "                           *********                            \n",
      "                          ***********                           \n",
      "                         *************                          \n",
      "                        ***************                         \n",
      "                       *****************                        \n",
      "                      *******************                       \n",
      "                     *********************                      \n",
      "                    ***********************                     \n",
      "                   *************************                    \n",
      "                  ***************************                   \n",
      "                 *                                  *                 \n",
      "                ***                                ***                \n",
      "               *****                              *****               \n",
      "              *******                            *******              \n",
      "             *********                          *********             \n",
      "            ***********                        ***********            \n",
      "           *************                      *************           \n",
      "          ***************                    ***************          \n",
      "         *****************                  *****************         \n",
      "        *******************                *******************        \n",
      "       *********************              *********************       \n",
      "      ***********************            ***********************      \n",
      "     *************************          *************************     \n",
      "    ***************************        ***************************    \n"
     ]
    }
   ],
   "source": [
    "f(15)"
   ]
  },
  {
   "cell_type": "code",
   "execution_count": 248,
   "metadata": {},
   "outputs": [
    {
     "name": "stdout",
     "output_type": "stream",
     "text": [
      "a\n",
      "b\n",
      "c\n"
     ]
    }
   ],
   "source": [
    "my_array = [\"a\", \"b\", \"c\"]\n",
    "foreach(j->println(my_array[j]), 1:1:length(my_array))\n"
   ]
  },
  {
   "cell_type": "code",
   "execution_count": 461,
   "metadata": {},
   "outputs": [
    {
     "data": {
      "text/plain": [
       "f (generic function with 3 methods)"
      ]
     },
     "metadata": {},
     "output_type": "display_data"
    }
   ],
   "source": [
    "f(n,i)=n==1 ? i : n%2==0 ? f(n/2,i+=1) : f(n*3+1,i+=1)"
   ]
  },
  {
   "cell_type": "code",
   "execution_count": 485,
   "metadata": {},
   "outputs": [
    {
     "data": {
      "text/plain": [
       "f (generic function with 3 methods)"
      ]
     },
     "metadata": {},
     "output_type": "display_data"
    }
   ],
   "source": [
    "~x=√parse(Int,x)\n",
    "f(a,s=\"$a\",l=length(s))=0 in[(s[l-i]<'1')+(~last(s,l-i)+~s[1:i])%1 for i=1:l-1]"
   ]
  },
  {
   "cell_type": "code",
   "execution_count": 486,
   "metadata": {},
   "outputs": [
    {
     "name": "stdout",
     "output_type": "stream",
     "text": [
      "Bool[1, 1, 1, 1, 1, 1, 1, 1, 1, 0, 0, 0, 0]\n"
     ]
    }
   ],
   "source": [
    "println(map(x->f(x),[11, 90, 1001, 144100, 151296561, 164, 361, 3614, 36144, 101, 016, 9, 914]))"
   ]
  },
  {
   "cell_type": "code",
   "execution_count": 487,
   "metadata": {},
   "outputs": [
    {
     "data": {
      "text/plain": [
       "f (generic function with 3 methods)"
      ]
     },
     "metadata": {},
     "output_type": "display_data"
    }
   ],
   "source": [
    "f(i)=i==\"dotnet ef\"&&print(\" \"^13,\"/\\\\__\n",
    "\",\" \"^7,raw\"---==/    \\\\\n",
    " ___  ___   |.    \\|\\ \n",
    "| __|| __|  |  )   \\\\\\\n",
    "| _| | _|   \\_/ |  //|\\\n",
    "|___||_|       /   \\\\/\\\\\n",
    "\")"
   ]
  },
  {
   "cell_type": "code",
   "execution_count": 488,
   "metadata": {},
   "outputs": [
    {
     "name": "stdout",
     "output_type": "stream",
     "text": [
      "             /\\__\n",
      "       ---==/    \\\\\n",
      " ___  ___   |.    \\|\\ \n",
      "| __|| __|  |  )   \\\\\\\n",
      "| _| | _|   \\_/ |  //|\\\n",
      "|___||_|       /   \\\\/\\\\\n"
     ]
    }
   ],
   "source": [
    "f(\"dotnet ef\")"
   ]
  },
  {
   "cell_type": "code",
   "execution_count": null,
   "metadata": {},
   "outputs": [],
   "source": []
  },
  {
   "cell_type": "code",
   "execution_count": null,
   "metadata": {},
   "outputs": [],
   "source": []
  },
  {
   "cell_type": "code",
   "execution_count": null,
   "metadata": {},
   "outputs": [],
   "source": []
  },
  {
   "cell_type": "code",
   "execution_count": null,
   "metadata": {},
   "outputs": [],
   "source": []
  },
  {
   "cell_type": "code",
   "execution_count": null,
   "metadata": {},
   "outputs": [],
   "source": []
  }
 ],
 "metadata": {
  "interpreter": {
   "hash": "4e1d9a8909477db77738c33245c29c7265277ef753467dede8cf3f814cde494e"
  },
  "kernelspec": {
   "display_name": "Julia 1.7.2",
   "language": "julia",
   "name": "julia-1.7"
  },
  "language_info": {
   "file_extension": ".jl",
   "mimetype": "application/julia",
   "name": "julia",
   "version": "1.7.2"
  },
  "orig_nbformat": 4
 },
 "nbformat": 4,
 "nbformat_minor": 2
}
