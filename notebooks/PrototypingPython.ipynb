{
 "cells": [
  {
   "cell_type": "code",
   "execution_count": 27,
   "metadata": {},
   "outputs": [],
   "source": [
    "f=lambda g:[g.is_directed(),g.is_tree(),g.is_connected(),g.is_strongly_connected()]"
   ]
  },
  {
   "cell_type": "code",
   "execution_count": 40,
   "metadata": {},
   "outputs": [
    {
     "name": "stdout",
     "output_type": "stream",
     "text": [
      "False\n",
      "False\n",
      "[(1, 2, None), (1, 2, None), (2, 3, None), (2, 3, None)]\n"
     ]
    }
   ],
   "source": [
    "# Outputformat [isDirected?, isCyclic?, isStronglyConnected, isConnected]\n",
    "\n",
    "g1=Graph(multiedges=True)\n",
    "g1.add_edges([(1, 2), (2, 3), (3, 4), (4, 1)])\n",
    "\n",
    "print(g1==g1.to_directed())\n",
    "\n",
    "g2=Graph(multiedges=True)\n",
    "g2.add_edges([(1, 2), (2, 1), (2, 3),(3, 2)])\n",
    "\n",
    "print(g2==g2.to_directed())\n",
    "print(g2.edges())\n",
    "\n",
    "g3=Graph()\n",
    "g3.add_edges([(1, 2), (2, 1), (2, 3), (3, 2), (3, 1), (1, 3)])\n",
    "\n",
    "g4=Graph()\n",
    "g4.add_edges([(1, 2), (2, 3)])\n",
    "\n",
    "g5=Graph()\n",
    "g5.add_edges([(1, 2), (2, 3), (3, 4), (4, 2)])\n",
    "\n",
    "g6=Graph()\n",
    "g6.add_edges([(1, 2), (3, 4)])\n",
    "\n",
    "g7=Graph()\n",
    "g7.add_edges([(1, 2), (3, 4), (4, 5), (5, 3)])\n",
    "\n",
    "g8=Graph()\n",
    "g8.add_edges([(1, 2), (2, 1), (3, 4), (4, 3)])\n",
    "\n",
    "g9=Graph()\n",
    "g9.add_edges([(1, 2), (2, 1), (3, 4), (4, 3), (4, 5), (5, 4), (5, 3), (3, 5)])\n",
    "\n",
    "\n",
    "# Outputformat [isDirected?, isCyclic?, isStronglyConnected, isConnected]"
   ]
  },
  {
   "cell_type": "code",
   "execution_count": null,
   "metadata": {},
   "outputs": [],
   "source": [
    "print(f(g1))\n",
    "print(f(g2))\n",
    "print(f(g3))\n",
    "print(f(g4))\n",
    "print(f(g5))\n",
    "print(f(g6))\n",
    "print(f(g7))\n",
    "print(f(g8))\n",
    "print(f(g9))"
   ]
  },
  {
   "cell_type": "code",
   "execution_count": 86,
   "metadata": {},
   "outputs": [
    {
     "name": "stdout",
     "output_type": "stream",
     "text": [
      "10\n"
     ]
    }
   ],
   "source": [
    "import json\n",
    "\n",
    "with open('test.ipynb') as json_file:\n",
    "    data = json.load(json_file)\n",
    "\n",
    "wordCount = 0\n",
    "for each in data['cells']:\n",
    "    cellType = each['cell_type']\n",
    "    if cellType == \"markdown\":\n",
    "        content = each['source']\n",
    "        for line in content:\n",
    "            temp = [word for word in line.split() if \"#\" not in word] # we might need to filter for more markdown keywords here\n",
    "            wordCount = wordCount + len(temp)\n",
    "            \n",
    "print(wordCount)\n"
   ]
  },
  {
   "cell_type": "code",
   "execution_count": null,
   "metadata": {},
   "outputs": [],
   "source": []
  },
  {
   "cell_type": "code",
   "execution_count": null,
   "metadata": {},
   "outputs": [],
   "source": []
  },
  {
   "cell_type": "code",
   "execution_count": null,
   "metadata": {},
   "outputs": [],
   "source": []
  },
  {
   "cell_type": "code",
   "execution_count": null,
   "metadata": {},
   "outputs": [],
   "source": []
  },
  {
   "cell_type": "code",
   "execution_count": null,
   "metadata": {},
   "outputs": [],
   "source": []
  },
  {
   "cell_type": "code",
   "execution_count": null,
   "metadata": {},
   "outputs": [],
   "source": []
  }
 ],
 "metadata": {
  "interpreter": {
   "hash": "e7370f93d1d0cde622a1f8e1c04877d8463912d04d973331ad4851f04de6915a"
  },
  "kernelspec": {
   "display_name": "SageMath 9.5",
   "language": "sage",
   "name": "sagemath"
  },
  "language_info": {
   "codemirror_mode": {
    "name": "ipython",
    "version": 3
   },
   "file_extension": ".py",
   "mimetype": "text/x-python",
   "name": "python",
   "nbconvert_exporter": "python",
   "pygments_lexer": "ipython3",
   "version": "3.10.2"
  },
  "orig_nbformat": 4
 },
 "nbformat": 4,
 "nbformat_minor": 2
}
